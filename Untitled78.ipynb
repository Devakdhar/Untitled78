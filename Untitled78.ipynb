{
 "cells": [
  {
   "cell_type": "code",
   "execution_count": 1,
   "id": "8489d684-31ba-4d7a-81c4-03c9c049aca7",
   "metadata": {},
   "outputs": [
    {
     "name": "stdin",
     "output_type": "stream",
     "text": [
      "feedback the number of student1 10\n",
      "feedback the number of student2 20\n",
      "feedback the number of student3 30\n",
      "feedback the number of student4 40\n",
      "feedback the number of student5 50\n"
     ]
    },
    {
     "ename": "NameError",
     "evalue": "name 'Print' is not defined",
     "output_type": "error",
     "traceback": [
      "\u001b[1;31m---------------------------------------------------------------------------\u001b[0m",
      "\u001b[1;31mNameError\u001b[0m                                 Traceback (most recent call last)",
      "Cell \u001b[1;32mIn[1], line 9\u001b[0m\n\u001b[0;32m      6\u001b[0m Averagefeedback\u001b[38;5;241m=\u001b[39m(student1\u001b[38;5;241m+\u001b[39mstudent2\u001b[38;5;241m+\u001b[39mstudent3\u001b[38;5;241m+\u001b[39mstudent4\u001b[38;5;241m+\u001b[39mstudent5)\u001b[38;5;241m/\u001b[39m\u001b[38;5;241m5\u001b[39m\n\u001b[0;32m      8\u001b[0m \u001b[38;5;28;01mif\u001b[39;00m (Averagefeedback\u001b[38;5;241m>\u001b[39m\u001b[38;5;241m4\u001b[39m):\n\u001b[1;32m----> 9\u001b[0m      Print(\u001b[38;5;124m\"\u001b[39m\u001b[38;5;124mits a good\u001b[39m\u001b[38;5;124m\"\u001b[39m)\n\u001b[0;32m     10\u001b[0m \u001b[38;5;28;01melif\u001b[39;00m (Averagefeedback\u001b[38;5;241m>\u001b[39m\u001b[38;5;241m3\u001b[39m):\n\u001b[0;32m     11\u001b[0m     \u001b[38;5;28mprint\u001b[39m(\u001b[38;5;124m\"\u001b[39m\u001b[38;5;124mits a Average\u001b[39m\u001b[38;5;124m\"\u001b[39m)\n",
      "\u001b[1;31mNameError\u001b[0m: name 'Print' is not defined"
     ]
    }
   ],
   "source": [
    "student1=int(input(\"feedback the number of student1\"))\n",
    "student2=int(input(\"feedback the number of student2\"))\n",
    "student3=int(input(\"feedback the number of student3\"))\n",
    "student4=int(input(\"feedback the number of student4\"))\n",
    "student5=int(input(\"feedback the number of student5\"))\n",
    "Averagefeedback=(student1+student2+student3+student4+student5)/5\n",
    "\n",
    "if (Averagefeedback>4):\n",
    "     Print(\"its a good\")\n",
    "elif (Averagefeedback>3):\n",
    "    print(\"its a Average\")\n",
    "elif (Averagefeedback>2):\n",
    "    print(\"its a bad below\")\n",
    "else:\n",
    "    print(\"change the trainer\")"
   ]
  },
  {
   "cell_type": "code",
   "execution_count": null,
   "id": "4b264f16-9f48-4cd9-978c-4164b68705b7",
   "metadata": {},
   "outputs": [],
   "source": []
  }
 ],
 "metadata": {
  "kernelspec": {
   "display_name": "Python 3 (ipykernel)",
   "language": "python",
   "name": "python3"
  },
  "language_info": {
   "codemirror_mode": {
    "name": "ipython",
    "version": 3
   },
   "file_extension": ".py",
   "mimetype": "text/x-python",
   "name": "python",
   "nbconvert_exporter": "python",
   "pygments_lexer": "ipython3",
   "version": "3.12.4"
  }
 },
 "nbformat": 4,
 "nbformat_minor": 5
}
